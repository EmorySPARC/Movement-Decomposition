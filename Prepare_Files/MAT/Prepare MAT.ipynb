{
 "cells": [
  {
   "cell_type": "code",
   "execution_count": 14,
   "metadata": {},
   "outputs": [],
   "source": [
    "import pandas as pd\n",
    "import scipy\n",
    "from scipy import io"
   ]
  },
  {
   "cell_type": "code",
   "execution_count": 15,
   "metadata": {},
   "outputs": [],
   "source": [
    "def LoadJointData(filename, jc = True, angles = False, vel = False, power = False, moments = False, csv = False):\n",
    "    mat = scipy.io.loadmat(filename)  # load mat-file\n",
    "    values = {'Frames': mat['FRAMES'][0][0][:,0],'Time': mat['TIME'][0][0][:,0]}\n",
    "    \n",
    "    if (jc): values.update({\n",
    "         'BodyCOGlab_X': mat['BodyCOGlab'][0][0][:,0],'BodyCOGlab_Y': mat['BodyCOGlab'][0][0][:,1],'BodyCOGlab_Z': mat['BodyCOGlab'][0][0][:,2],\n",
    "         'RANKLE_JC_X': mat['RANKLE_JC_TRIAL'][0][0][:,0],'RANKLE_JC_Y': mat['RANKLE_JC_TRIAL'][0][0][:,1],'RANKLE_JC_Z': mat['RANKLE_JC_TRIAL'][0][0][:,2],\n",
    "         'RKNEE_JC_X': mat['RKNEE_JC_TRIAL'][0][0][:,0],'RKNEE_JC_Y': mat['RKNEE_JC_TRIAL'][0][0][:,1],'RKNEE_JC_Z': mat['RKNEE_JC_TRIAL'][0][0][:,2],\n",
    "         'RHIP_JC_X': mat['RHIP_JC_TRIAL'][0][0][:,0],'RHIP_JC_Y': mat['RHIP_JC_TRIAL'][0][0][:,1],'RHIP_JC_Z': mat['RHIP_JC_TRIAL'][0][0][:,2],\n",
    "         'LANKLE_JC_X': mat['LANKLE_JC_TRIAL'][0][0][:,0],'LANKLE_JC_Y': mat['LANKLE_JC_TRIAL'][0][0][:,1],'LANKLE_JC_Z': mat['LANKLE_JC_TRIAL'][0][0][:,2],\n",
    "         'LKNEE_JC_X': mat['LKNEE_JC_TRIAL'][0][0][:,0],'LKNEE_JC_Y': mat['LKNEE_JC_TRIAL'][0][0][:,1],'LKNEE_JC_Z': mat['LKNEE_JC_TRIAL'][0][0][:,2],\n",
    "         'LHIP_JC_X': mat['LHIP_JC_TRIAL'][0][0][:,0],'LHIP_JC_Y': mat['LHIP_JC_TRIAL'][0][0][:,1],'LHIP_JC_Z': mat['LHIP_JC_TRIAL'][0][0][:,2],\n",
    "         'LSHOULDER_JC_X': mat['LSHOULDER_JC_TRIAL'][0][0][:,0],'LSHOULDER_JC_Y': mat['LSHOULDER_JC_TRIAL'][0][0][:,1],'LSHOULDER_JC_Z': mat['LSHOULDER_JC_TRIAL'][0][0][:,2],\n",
    "         'RSHOULDER_JC_X': mat['RSHOULDER_JC_TRIAL'][0][0][:,0],'RSHOULDER_JC_Y': mat['RSHOULDER_JC_TRIAL'][0][0][:,1],'RSHOULDER_JC_Z': mat['RSHOULDER_JC_TRIAL'][0][0][:,2] \n",
    "    })\n",
    "    \n",
    "    if (angles): values.update({\n",
    "         \n",
    "         'RFootAngle_X': mat['RFootAngleDEFAULT'][0][0][:,0],'RFootAngle_Y': mat['RFootAngleDEFAULT'][0][0][:,1],'RFootAngle_Z': mat['RFootAngleDEFAULT'][0][0][:,2],\n",
    "         'RHipAngle_X': mat['RHipAngleDEFAULT'][0][0][:,0],'RHipAngle_Y': mat['RHipAngleDEFAULT'][0][0][:,1],'RHipAngle_Z': mat['RHipAngleDEFAULT'][0][0][:,2],\n",
    "         'RKneeAngle_X': mat['RKneeAngleDEFAULT'][0][0][:,0],'RKneeAngle_Y': mat['RKneeAngleDEFAULT'][0][0][:,1],'RKneeAngle_Z': mat['RKneeAngleDEFAULT'][0][0][:,2],\n",
    "         'PelvisAngle_X': mat['PelvisAngleVirtualLabDVJ'][0][0][:,0],'PelvisAngle_Y': mat['PelvisAngleVirtualLabDVJ'][0][0][:,1],'PelvisAngle_Z': mat['PelvisAngleVirtualLabDVJ'][0][0][:,2],\n",
    "         'TrunkAngle_X': mat['TrunkAngleVirtualLabDVJ'][0][0][:,0],'TrunkAngle_Y': mat['TrunkAngleVirtualLabDVJ'][0][0][:,1],'TrunkAngle_Z': mat['TrunkAngleVirtualLabDVJ'][0][0][:,2], \n",
    "         'LFootAngle_X': mat['LFootAngleDEFAULT'][0][0][:,0],'LFootAngle_Y': mat['LFootAngleDEFAULT'][0][0][:,1],'LFootAngle_Z': mat['LFootAngleDEFAULT'][0][0][:,2],\n",
    "         'LHipAngle_X': mat['LHipAngleDEFAULT'][0][0][:,0],'LHipAngle_Y': mat['LHipAngleDEFAULT'][0][0][:,1],'LHipAngle_Z': mat['LHipAngleDEFAULT'][0][0][:,2],\n",
    "         'LKneeAngle_X': mat['LKneeAngleDEFAULT'][0][0][:,0],'LKneeAngle_Y': mat['LKneeAngleDEFAULT'][0][0][:,1],'LKneeAngle_Z': mat['LKneeAngleDEFAULT'][0][0][:,2] \n",
    "    })\n",
    "    \n",
    "    if (vel): values.update({\n",
    "         'RFootVel_X': mat['RFootVelDEFAULT'][0][0][:,0],'RFootVel_Y': mat['RFootVelDEFAULT'][0][0][:,1],'RFootVel_Z': mat['RFootVelDEFAULT'][0][0][:,2],\n",
    "         'RHipVel_X': mat['RHipVelDEFAULT'][0][0][:,0],'RHipVel_Y': mat['RHipVelDEFAULT'][0][0][:,1],'RHipVel_Z': mat['RHipVelDEFAULT'][0][0][:,2],   \n",
    "         'RKneeVel_X': mat['RKneeVelDEFAULT'][0][0][:,0],'RKneeVel_Y': mat['RKneeVelDEFAULT'][0][0][:,1],'RKneeVel_Z': mat['RKneeVelDEFAULT'][0][0][:,2],\n",
    "         'PelvisVel_X': mat['PelvisVelVirtualLabDVJ'][0][0][:,0],'PelvisVel_Y': mat['PelvisVelVirtualLabDVJ'][0][0][:,1],'PelvisVel_Z': mat['PelvisVelVirtualLabDVJ'][0][0][:,2],\n",
    "         'TrunkVel_X': mat['TrunkVelVirtualLabDVJ'][0][0][:,0],'TrunkVel_Y': mat['TrunkVelVirtualLabDVJ'][0][0][:,1],'TrunkVel_Z': mat['TrunkVelVirtualLabDVJ'][0][0][:,2],\n",
    "         'LFootVel_X': mat['LFootVelDEFAULT'][0][0][:,0],'LFootVel_Y': mat['LFootVelDEFAULT'][0][0][:,1],'LFootVel_Z': mat['LFootVelDEFAULT'][0][0][:,2],\n",
    "         'LKneeVel_X': mat['LKneeVelDEFAULT'][0][0][:,0],'LKneeVel_Y': mat['LKneeVelDEFAULT'][0][0][:,1],'LKneeVel_Z': mat['LKneeVelDEFAULT'][0][0][:,2],\n",
    "         'LHipVel_X': mat['LHipVelDEFAULT'][0][0][:,0],'LHipVel_Y': mat['LHipVelDEFAULT'][0][0][:,1],'LHipVel_Z': mat['LHipVelDEFAULT'][0][0][:,2] \n",
    "    })\n",
    "    \n",
    "    if (power): values.update({\n",
    "         'RAnklePowerRFT_X': mat['RAnklePowerRFT'][0][0][:,0],'RAnklePowerRFT_Y': mat['RAnklePowerRFT'][0][0][:,1],'RAnklePowerRFT_Z': mat['RAnklePowerRFT'][0][0][:,2],\n",
    "         'RHipPowerRTH_X': mat['RHipPowerRTH'][0][0][:,0],'RHipPowerRTH_Y': mat['RHipPowerRTH'][0][0][:,1],'RHipPowerRTH_Z': mat['RHipPowerRTH'][0][0][:,2],\n",
    "         'RKneePowerRSK_X': mat['RKneePowerRSK'][0][0][:,0],'RKneePowerRSK_Y': mat['RKneePowerRSK'][0][0][:,1],'RKneePowerRSK_Z': mat['RKneePowerRSK'][0][0][:,2],\n",
    "         'LAnklePowerLFT_X': mat['LAnklePowerLFT'][0][0][:,0],'LAnklePowerLFT_Y': mat['LAnklePowerLFT'][0][0][:,1],'LAnklePowerLFT_Z': mat['LAnklePowerLFT'][0][0][:,2], \n",
    "         'LHipPowerLTH_X': mat['LHipPowerLTH'][0][0][:,0],'LHipPowerLTH_Y': mat['LHipPowerLTH'][0][0][:,1],'LHipPowerLTH_Z': mat['LHipPowerLTH'][0][0][:,2],\n",
    "         'LKneePowerLSK_X': mat['LKneePowerLSK'][0][0][:,0],'LKneePowerLSK_Y': mat['LKneePowerLSK'][0][0][:,1],'LKneePowerLSK_Z': mat['LKneePowerLSK'][0][0][:,2]\n",
    "    })\n",
    "        \n",
    "    if (moments): values.update({\n",
    "         'RAnkleMomentRSK_X': mat['RAnkleMomentRSK'][0][0][:,0],'RAnkleMomentRSK_Y': mat['RAnkleMomentRSK'][0][0][:,1],'RAnkleMomentRSK_Z': mat['RAnkleMomentRSK'][0][0][:,2],\n",
    "         'RHipMomentRPV_X': mat['RHipMomentRPV'][0][0][:,0],'RHipMomentRPV_Y': mat['RHipMomentRPV'][0][0][:,1],'RHipMomentRPV_Z': mat['RHipMomentRPV'][0][0][:,2],      \n",
    "         'RKneeMomentRTH_X': mat['RKneeMomentRTH'][0][0][:,0],'RKneeMomentRTH_Y': mat['RKneeMomentRTH'][0][0][:,1],'RKneeMomentRTH_Z': mat['RKneeMomentRTH'][0][0][:,2], \n",
    "         'LAnkleMomentLSK_X': mat['LAnkleMomentLSK'][0][0][:,0],'LAnkleMomentLSK_Y': mat['LAnkleMomentLSK'][0][0][:,1],'LAnkleMomentLSK_Z': mat['LAnkleMomentLSK'][0][0][:,2],\n",
    "         'LHipMomentLPV_X': mat['LHipMomentLPV'][0][0][:,0],'LHipMomentLPV_Y': mat['LHipMomentLPV'][0][0][:,1],'LHipMomentLPV_Z': mat['LHipMomentLPV'][0][0][:,2],\n",
    "         'LKneeMomentLTH_X': mat['LKneeMomentLTH'][0][0][:,0],'LKneeMomentLTH_Y': mat['LKneeMomentLTH'][0][0][:,1],'LKneeMomentLTH_Z': mat['LKneeMomentLTH'][0][0][:,2]   \n",
    "    })\n",
    "               \n",
    "    df = pd.DataFrame(data=values)\n",
    "    df = df.dropna()\n",
    "    \n",
    "    if (csv):\n",
    "        df.to_csv(filename + '_JC.csv', index=False) \n",
    "    \n",
    "    return df"
   ]
  },
  {
   "cell_type": "code",
   "execution_count": 32,
   "metadata": {},
   "outputs": [],
   "source": [
    "def refJCToCOG(jointData, csv=False, filename=None):\n",
    "    # Check if the necessary columns are present in the DataFrame\n",
    "    if {'Time', 'Frames'}.issubset(jointData.columns):\n",
    "        jointData = jointData.drop(columns=['Time', 'Frames'])\n",
    "    else:\n",
    "        print(\"One or more of the columns to be dropped is not present in the DataFrame\")\n",
    "\n",
    "    # Iterating over each row\n",
    "    for i in jointData.index:\n",
    "        # Store the initial COG coordinates\n",
    "        init_cogx, init_cogy, init_cogz = jointData.loc[i, jointData.columns[0:3]]\n",
    "        \n",
    "        # Iterating over each set of 3 columns\n",
    "        for j in range(0, len(jointData.columns), 3):\n",
    "            jointData.loc[i, jointData.columns[j]] -= init_cogx\n",
    "            jointData.loc[i, jointData.columns[j+1]] -= init_cogy\n",
    "            jointData.loc[i, jointData.columns[j+2]] -= init_cogz\n",
    "\n",
    "    # Saving the DataFrame as a CSV file\n",
    "    if csv and filename:\n",
    "        jointData.to_csv(filename + 'JC_REF2COG.csv', index=False)\n",
    "    elif csv and not filename:\n",
    "        print(\"Filename is not provided.\")\n",
    "    \n",
    "    return jointData"
   ]
  },
  {
   "cell_type": "code",
   "execution_count": 33,
   "metadata": {},
   "outputs": [],
   "source": [
    "filename = 'box1.c3d_V3D.mat'\n",
    "df = LoadJointData(filename, jc = True, angles = False, vel = False, power = False, moments = False, csv = False)\n",
    "df_reref = refJCToCOG(df, csv = True, filename = filename)"
   ]
  },
  {
   "cell_type": "code",
   "execution_count": null,
   "metadata": {},
   "outputs": [],
   "source": []
  }
 ],
 "metadata": {
  "kernelspec": {
   "display_name": "Python 3",
   "language": "python",
   "name": "python3"
  },
  "language_info": {
   "codemirror_mode": {
    "name": "ipython",
    "version": 3
   },
   "file_extension": ".py",
   "mimetype": "text/x-python",
   "name": "python",
   "nbconvert_exporter": "python",
   "pygments_lexer": "ipython3",
   "version": "3.8.5"
  }
 },
 "nbformat": 4,
 "nbformat_minor": 4
}

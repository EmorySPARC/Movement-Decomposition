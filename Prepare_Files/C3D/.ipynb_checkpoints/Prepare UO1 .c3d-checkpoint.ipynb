{
 "cells": [
  {
   "cell_type": "code",
   "execution_count": 22,
   "metadata": {},
   "outputs": [],
   "source": [
    "from ezc3d import c3d\n",
    "import pandas as pd\n",
    "import copy\n",
    "import numpy as np"
   ]
  },
  {
   "cell_type": "code",
   "execution_count": 23,
   "metadata": {},
   "outputs": [],
   "source": [
    "def ReadC3D(filename, showData = False):\n",
    "    c = c3d(filename)\n",
    "    print(\"C3D File Imported\")\n",
    "    print(\"Number of Markers: \" + str(c['parameters']['POINT']['USED']['value'][0]));  # Print the number of markers used\n",
    "    \n",
    "    point_data = c['data']['points']\n",
    "    \n",
    "    dataRate = c['parameters']['POINT']['RATE']['value']\n",
    "    print(\"Data Rate = \" + str(int(dataRate)) + \" hz\")\n",
    "    \n",
    "    length = len(point_data[0][0])\n",
    "    print (str(length) + \" Samples \")\n",
    "    print (str(float(length/dataRate)) + \" Seconds\")\n",
    "    \n",
    "    if (showData):      \n",
    "        print(point_data)  \n",
    "      \n",
    "    return c\n",
    "\n",
    "def WriteC3D(outFileName, data):\n",
    "    print(\"c3d file written to: \" + outFileName)\n",
    "    data.write(outFileName)\n",
    "    \n",
    "#Create a dataframe of the marker positions\n",
    "def c3dToDataframe(data, writeCSV = False, csv_file_path = None):\n",
    "    \n",
    "    df = pd.DataFrame()\n",
    "    \n",
    "    for k in range (len(data['data']['points'][0])):\n",
    "            df[data['parameters']['POINT']['LABELS']['value'][k] + \"_X\"] = data['data']['points'][0,k]\n",
    "            df[data['parameters']['POINT']['LABELS']['value'][k] + \"_Y\"] = data['data']['points'][1,k]\n",
    "            df[data['parameters']['POINT']['LABELS']['value'][k] + \"_Z\"] = data['data']['points'][2,k]\n",
    "            \n",
    "    if (writeCSV):\n",
    "        df.to_csv(csv_file_path, index=False)\n",
    "                                                              \n",
    "    return df\n",
    "\n",
    "def DataframeToC3D(df, original_c3d_data):\n",
    "    outData = copy.deepcopy(original_c3d_data)\n",
    "    labels = original_c3d_data['parameters']['POINT']['LABELS']['value']\n",
    "\n",
    "    # Pre-allocate the points array with zeros\n",
    "    outData['data']['points'] = np.zeros_like(outData['data']['points'])\n",
    "\n",
    "    for i, label in enumerate(labels):\n",
    "        outData['data']['points'][0, i] = df[label + \"_X\"].values\n",
    "        outData['data']['points'][1, i] = df[label + \"_Y\"].values\n",
    "        outData['data']['points'][2, i] = df[label + \"_Z\"].values\n",
    "\n",
    "    return outData\n",
    "    \n",
    "#Re-reference all markers to a given marker\n",
    "def ReReference (data, refMarker):\n",
    "    \n",
    "    outData = copy.deepcopy(data)\n",
    "    \n",
    "    for i in range(len(outData['parameters']['POINT']['LABELS']['value'])):\n",
    "        if (data['parameters']['POINT']['LABELS']['value'][i] == refMarker):\n",
    "            refIndex = i\n",
    "            \n",
    "    for k in range (len(outData['data']['points'][0])):\n",
    "        for j in range (len(outData['data']['points'][0][0])):\n",
    "            outData['data']['points'][0,k,j] = (outData['data']['points'][0,k,j] - data['data']['points'][0,refIndex,j])\n",
    "            outData['data']['points'][1,k,j] = (outData['data']['points'][1,k,j] - data['data']['points'][1,refIndex,j])\n",
    "            outData['data']['points'][2,k,j] = (outData['data']['points'][2,k,j] - data['data']['points'][2,refIndex,j])\n",
    "                                  \n",
    "    return outData"
   ]
  },
  {
   "cell_type": "code",
   "execution_count": 16,
   "metadata": {},
   "outputs": [
    {
     "name": "stdout",
     "output_type": "stream",
     "text": [
      "C3D File Imported\n",
      "Number of Markers: 53\n",
      "Data Rate = 240 hz\n",
      "806 Samples \n",
      "3.3583333333333334 Seconds\n"
     ]
    }
   ],
   "source": [
    "c3ddata = ReadC3D(\"box1.c3d\")\n",
    "reRef = ReReference(data,'VR_WaistBack')\n",
    "df = c3dToDataframe(reRef,writeCSV = True,csv_file_path = 'reRef.csv')\n",
    "#process the datafrme or .csv here"
   ]
  },
  {
   "cell_type": "code",
   "execution_count": 24,
   "metadata": {},
   "outputs": [
    {
     "name": "stdout",
     "output_type": "stream",
     "text": [
      "c3d file written to: box1_ReRef.c3d\n"
     ]
    }
   ],
   "source": [
    "#read in the processed .csv and write it as a .c3d with the metadata from the original file\n",
    "dfIn = pd.read_csv('reRef.csv')\n",
    "newC3dData = DataframeToC3D(dfIn, reRef)\n",
    "WriteC3D ('box1_ReRef.c3d', newC3dData)"
   ]
  },
  {
   "cell_type": "code",
   "execution_count": null,
   "metadata": {},
   "outputs": [],
   "source": []
  }
 ],
 "metadata": {
  "kernelspec": {
   "display_name": "Python 3",
   "language": "python",
   "name": "python3"
  },
  "language_info": {
   "codemirror_mode": {
    "name": "ipython",
    "version": 3
   },
   "file_extension": ".py",
   "mimetype": "text/x-python",
   "name": "python",
   "nbconvert_exporter": "python",
   "pygments_lexer": "ipython3",
   "version": "3.8.5"
  }
 },
 "nbformat": 4,
 "nbformat_minor": 4
}

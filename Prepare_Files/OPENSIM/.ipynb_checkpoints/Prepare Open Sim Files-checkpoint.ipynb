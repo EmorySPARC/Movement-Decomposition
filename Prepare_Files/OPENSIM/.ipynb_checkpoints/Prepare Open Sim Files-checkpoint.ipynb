{
 "cells": [
  {
   "cell_type": "code",
   "execution_count": 1,
   "metadata": {},
   "outputs": [],
   "source": [
    "import pandas as pd\n",
    "import os\n",
    "\n",
    "def set_column_values(df):\n",
    "    # Ensure the DataFrame is a pandas DataFrame\n",
    "    if not isinstance(df, pd.DataFrame):\n",
    "        raise ValueError(\"Input must be a pandas DataFrame\")\n",
    "    \n",
    "    # Set column values\n",
    "    df[\"pelvic_tx\"] = 0\n",
    "    df[\"pelvic_ty\"] = 0.5\n",
    "    df[\"pelvic_tz\"] = 0\n",
    "\n",
    "    return df\n",
    "\n",
    "def read_opensim_file(file_path, re_reference = True, write_csv=False):\n",
    "    with open(file_path, 'r') as file:\n",
    "        for i, line in enumerate(file):\n",
    "            if 'endheader' in line:\n",
    "                skiprows = i + 1\n",
    "                break\n",
    "    data = pd.read_csv(file_path, delimiter='\\t', skiprows=skiprows)\n",
    "    data.set_index('time', inplace=True)\n",
    "    \n",
    "    data = set_column_values(data)\n",
    "\n",
    "    if write_csv:\n",
    "        csv_file_path = os.path.splitext(file_path)[0] + '.csv'\n",
    "        data.to_csv(csv_file_path)\n",
    "        \n",
    "    return data\n",
    "\n",
    "def write_opensim_file(data, file_path, csv_file_path=None):\n",
    "    if csv_file_path is not None:\n",
    "        data = pd.read_csv(csv_file_path)\n",
    "    \n",
    "    nRows = len(data)\n",
    "    nColumns = len(data.columns)\n",
    "\n",
    "    header = f\"\"\"Coordinates\n",
    "    version=1\n",
    "    nRows={nRows}\n",
    "    nColumns={nColumns}\n",
    "    inDegrees=yes\n",
    "\n",
    "    Units are S.I. units (second, meters, Newtons, ...)\n",
    "    If the header above contains a line with 'inDegrees', this indicates whether rotational values are in degrees (yes) or radians (no).\n",
    "\n",
    "    endheader\n",
    "    \"\"\"\n",
    "\n",
    "    with open(file_path, 'w') as file:\n",
    "        file.write(header)\n",
    "    data.to_csv(file_path, sep='\\t', mode='a', index=False, float_format='%.8f')\n",
    "    \n",
    "    "
   ]
  },
  {
   "cell_type": "code",
   "execution_count": 7,
   "metadata": {},
   "outputs": [],
   "source": [
    "# Read OpenSim file\n",
    "data = read_opensim_file('Data/box1_enable_rotated_Kinematics_q.sto')\n"
   ]
  },
  {
   "cell_type": "code",
   "execution_count": null,
   "metadata": {},
   "outputs": [],
   "source": [
    "# Write OpenSim file\n",
    "#write_opensim_file(data, 'newfile.sto')\n",
    "\n",
    "# Write data from .csv file to OpenSim file\n",
    "#write_opensim_file(None, 'box1_enable_rotated_Kinematics_q.sto', csv_file_path='Data/box1_enable_rotated_Kinematics_q.csv')"
   ]
  }
 ],
 "metadata": {
  "kernelspec": {
   "display_name": "Python 3",
   "language": "python",
   "name": "python3"
  },
  "language_info": {
   "codemirror_mode": {
    "name": "ipython",
    "version": 3
   },
   "file_extension": ".py",
   "mimetype": "text/x-python",
   "name": "python",
   "nbconvert_exporter": "python",
   "pygments_lexer": "ipython3",
   "version": "3.8.5"
  }
 },
 "nbformat": 4,
 "nbformat_minor": 4
}

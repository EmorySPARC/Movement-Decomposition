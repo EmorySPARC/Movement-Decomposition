{
 "cells": [
  {
   "cell_type": "code",
   "execution_count": 46,
   "metadata": {},
   "outputs": [],
   "source": [
    "import pandas as pd\n",
    "import numpy as np\n",
    "\n",
    "def svd_csv(file_path, rank):\n",
    "    # Read the .csv file into a DataFrame\n",
    "    X = pd.read_csv(file_path)\n",
    "    \n",
    "    # Store the \"time\" column\n",
    "    time_column = X['time']\n",
    "    \n",
    "    # Store original column names (without 'time')\n",
    "    original_columns = X.drop('time', axis=1).columns\n",
    "\n",
    "    # Remove the \"time\" column\n",
    "    X = X.drop('time', axis=1)\n",
    "\n",
    "    # Transpose the DataFrame\n",
    "    X = X.transpose()\n",
    "\n",
    "    # Convert DataFrame to numpy array for SVD\n",
    "    X_np = X.values\n",
    "\n",
    "    # Implement SVD\n",
    "    U, S, VT = np.linalg.svd(X_np, full_matrices=False)\n",
    "\n",
    "    # Convert singular values to a diagonal matrix\n",
    "    S = np.diag(S)\n",
    "\n",
    "    # Check if rank is less than or equal to the number of singular values\n",
    "    if rank <= S.shape[0]:\n",
    "        # Construct approximate DataFrame\n",
    "        Xapprox = pd.DataFrame(U[:,:rank] @ S[0:rank,:rank] @ VT[:rank,:])\n",
    "    else:\n",
    "        print(f'Rank={rank} is greater than the number of singular values.')\n",
    "        return None\n",
    "    \n",
    "    # Transpose the DataFrame back to its original orientation\n",
    "    Xapprox = Xapprox.transpose()\n",
    "    \n",
    "    # Assign back the original column names\n",
    "    Xapprox.columns = original_columns\n",
    "    \n",
    "    # Add back the \"time\" column as the first column\n",
    "    Xapprox.insert(0, 'time', time_column)\n",
    "\n",
    "    # Return the approximation\n",
    "    return Xapprox"
   ]
  },
  {
   "cell_type": "code",
   "execution_count": 47,
   "metadata": {},
   "outputs": [],
   "source": [
    "def write_opensim_file(data, file_path, csv_file_path=None):\n",
    "    if csv_file_path is not None:\n",
    "        data = pd.read_csv(csv_file_path)\n",
    "    \n",
    "    nRows = len(data)\n",
    "    nColumns = len(data.columns)\n",
    "\n",
    "    header = f\"\"\"Coordinates\n",
    "    version=1\n",
    "    nRows={nRows}\n",
    "    nColumns={nColumns}\n",
    "    inDegrees=yes\n",
    "\n",
    "    Units are S.I. units (second, meters, Newtons, ...)\n",
    "    If the header above contains a line with 'inDegrees', this indicates whether rotational values are in degrees (yes) or radians (no).\n",
    "\n",
    "    endheader\n",
    "    \"\"\"\n",
    "\n",
    "    with open(file_path, 'w') as file:\n",
    "        file.write(header)\n",
    "    data.to_csv(file_path, sep='\\t', mode='a', index=False, float_format='%.8f')"
   ]
  },
  {
   "cell_type": "code",
   "execution_count": 50,
   "metadata": {},
   "outputs": [],
   "source": [
    "import os\n",
    "\n",
    "def process_and_write(file_path, rank):\n",
    "    # Extract the filename without extension from the file path\n",
    "    base_name = os.path.basename(file_path)\n",
    "    filename_without_extension = os.path.splitext(base_name)[0]\n",
    "\n",
    "    # Append rank to the filename\n",
    "    new_filename = f\"{filename_without_extension}_rank_{rank}.sto\"\n",
    "\n",
    "    # Process the CSV file\n",
    "    approximation = svd_csv(file_path, rank)\n",
    "\n",
    "    # Write the DataFrame to a new file\n",
    "    write_opensim_file(approximation, new_filename)"
   ]
  },
  {
   "cell_type": "code",
   "execution_count": 75,
   "metadata": {},
   "outputs": [],
   "source": [
    "file_path = 'Z:/Research Drive/Riehm/DDSE/SPARC_CODE_DATA/Prepare_UO1_Files/OPENSIM/Data/box1_enable_rotated_Kinematics_q.csv'  # Replace with your actual file path\n",
    "rank = 50  # Replace with your desired rank\n",
    "process_and_write(file_path, rank)"
   ]
  },
  {
   "cell_type": "code",
   "execution_count": null,
   "metadata": {},
   "outputs": [],
   "source": []
  }
 ],
 "metadata": {
  "kernelspec": {
   "display_name": "Python 3",
   "language": "python",
   "name": "python3"
  },
  "language_info": {
   "codemirror_mode": {
    "name": "ipython",
    "version": 3
   },
   "file_extension": ".py",
   "mimetype": "text/x-python",
   "name": "python",
   "nbconvert_exporter": "python",
   "pygments_lexer": "ipython3",
   "version": "3.8.5"
  }
 },
 "nbformat": 4,
 "nbformat_minor": 4
}
